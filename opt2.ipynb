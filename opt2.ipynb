{
 "cells": [
  {
   "cell_type": "code",
   "execution_count": 1,
   "metadata": {},
   "outputs": [
    {
     "name": "stderr",
     "output_type": "stream",
     "text": [
      "pybullet build time: Dec 14 2022 00:46:04\n"
     ]
    }
   ],
   "source": [
    "import pygmo as pg\n",
    "import numpy as np\n",
    "from pybullet_suite import *\n",
    "import time"
   ]
  },
  {
   "cell_type": "code",
   "execution_count": 2,
   "metadata": {},
   "outputs": [
    {
     "name": "stdout",
     "output_type": "stream",
     "text": [
      "argv[0]=\n"
     ]
    }
   ],
   "source": [
    "world = BulletWorld(gui=False)\n",
    "sm = BulletSceneMaker(world)\n",
    "robot = world.load_robot(Panda, \"panda\")"
   ]
  },
  {
   "cell_type": "code",
   "execution_count": 3,
   "metadata": {},
   "outputs": [],
   "source": [
    "class Prob:\n",
    "    def __init__(self, xl, xu, q0, fk, jac):\n",
    "        self.xl = xl\n",
    "        self.xu = xu\n",
    "        self.q0 = q0\n",
    "        self.fk = fk\n",
    "        self.jac = jac\n",
    "        self.pg = np.array([0.4, -0.1, 0.3])\n",
    "\n",
    "    def fitness(self, x):\n",
    "        obj = 1/2*np.dot(x,x) - np.dot(self.q0, x)\n",
    "        ce1 = self.fk(x) - self.pg\n",
    "        return [obj, *ce1]\n",
    "    \n",
    "    def get_bounds(self):\n",
    "        return (self.xl, self.xu)\n",
    "\n",
    "    def get_nec(self):\n",
    "        return 3\n",
    "\n",
    "    def get_nic(self):\n",
    "        return 0\n",
    "    \n",
    "    def gradient(self, x):\n",
    "        obj_grad = x - self.q0\n",
    "        ce1_grad = self.jac(x)[:3,:]\n",
    "        return np.hstack([obj_grad, ce1_grad.flatten()])"
   ]
  },
  {
   "cell_type": "code",
   "execution_count": 7,
   "metadata": {},
   "outputs": [],
   "source": [
    "prob = pg.problem(Prob(\n",
    "    robot.arm_lower_limit, \n",
    "    robot.arm_upper_limit, \n",
    "    robot.arm_central,\n",
    "    lambda x: robot.forward_kinematics(x).trans,\n",
    "    lambda x: robot.get_jacobian(x)[:3,:]\n",
    "))"
   ]
  },
  {
   "cell_type": "code",
   "execution_count": 8,
   "metadata": {},
   "outputs": [],
   "source": [
    "ip = pg.ipopt()\n",
    "sqp = pg.nlopt(\"slsqp\")\n",
    "algo = pg.algorithm(ip)\n",
    "algo.set_verbosity(200) # in this case this correspond to logs each 200 objevals\n",
    "pop = pg.population(prob=prob, size=1)\n",
    "pop.problem.c_tol = [1E-4] * 3"
   ]
  },
  {
   "cell_type": "code",
   "execution_count": 9,
   "metadata": {},
   "outputs": [
    {
     "name": "stdout",
     "output_type": "stream",
     "text": [
      "\n",
      "******************************************************************************\n",
      "This program contains Ipopt, a library for large-scale nonlinear optimization.\n",
      " Ipopt is released as open source code under the Eclipse Public License (EPL).\n",
      "         For more information visit https://github.com/coin-or/Ipopt\n",
      "******************************************************************************\n",
      "\n",
      "\n",
      " objevals:        objval:      violated:    viol. norm:\n",
      "         1         4.0676              3       0.771694 i\n",
      "0.05949592590332031\n",
      "\n",
      "Optimisation return status: Solve_Succeeded (value = 0)\n"
     ]
    }
   ],
   "source": [
    "tic = time.time()\n",
    "algo.evolve(pop)\n",
    "elapsed = time.time() - tic\n",
    "print(elapsed)"
   ]
  },
  {
   "cell_type": "code",
   "execution_count": 13,
   "metadata": {},
   "outputs": [
    {
     "data": {
      "text/plain": [
       "0.034281015396118164"
      ]
     },
     "execution_count": 13,
     "metadata": {},
     "output_type": "execute_result"
    }
   ],
   "source": []
  },
  {
   "cell_type": "code",
   "execution_count": 7,
   "metadata": {},
   "outputs": [
    {
     "data": {
      "text/plain": [
       "array([], dtype=float64)"
      ]
     },
     "execution_count": 7,
     "metadata": {},
     "output_type": "execute_result"
    }
   ],
   "source": [
    "pop.champion_x"
   ]
  },
  {
   "cell_type": "code",
   "execution_count": 20,
   "metadata": {},
   "outputs": [
    {
     "data": {
      "text/plain": [
       "pose: trans[0.400 -0.100 0.300]-rot[0.916 0.270 -0.268 -0.123]]"
      ]
     },
     "execution_count": 20,
     "metadata": {},
     "output_type": "execute_result"
    }
   ],
   "source": [
    "robot.forward_kinematics(pop.get_x()[0,:])"
   ]
  },
  {
   "cell_type": "code",
   "execution_count": null,
   "metadata": {},
   "outputs": [],
   "source": [
    "uda = pg.nlopt(\"slsqp\")\n",
    "algo = pg.algorithm(uda)\n",
    "print(algo) "
   ]
  }
 ],
 "metadata": {
  "kernelspec": {
   "display_name": "opt_env",
   "language": "python",
   "name": "python3"
  },
  "language_info": {
   "codemirror_mode": {
    "name": "ipython",
    "version": 3
   },
   "file_extension": ".py",
   "mimetype": "text/x-python",
   "name": "python",
   "nbconvert_exporter": "python",
   "pygments_lexer": "ipython3",
   "version": "3.8.15"
  },
  "orig_nbformat": 4,
  "vscode": {
   "interpreter": {
    "hash": "31b59eb279ff3bfdca724184c8d2d3dd0fc70f35d5c7bf0da65b84c07e8ce728"
   }
  }
 },
 "nbformat": 4,
 "nbformat_minor": 2
}
