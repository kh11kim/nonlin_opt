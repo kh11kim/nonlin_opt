{
 "cells": [
  {
   "cell_type": "code",
   "execution_count": 1,
   "metadata": {},
   "outputs": [
    {
     "name": "stderr",
     "output_type": "stream",
     "text": [
      "pybullet build time: Jan 27 2023 01:13:38\n"
     ]
    }
   ],
   "source": [
    "import nlopt\n",
    "import numpy as np\n",
    "from pybullet_suite import *"
   ]
  },
  {
   "cell_type": "code",
   "execution_count": 2,
   "metadata": {},
   "outputs": [
    {
     "name": "stdout",
     "output_type": "stream",
     "text": [
      "argv[0]=\n"
     ]
    }
   ],
   "source": [
    "world = BulletWorld(gui=False)\n",
    "sm = BulletSceneMaker(world)"
   ]
  },
  {
   "cell_type": "code",
   "execution_count": 3,
   "metadata": {},
   "outputs": [],
   "source": [
    "robot = world.load_robot(Panda, \"panda\")"
   ]
  },
  {
   "cell_type": "code",
   "execution_count": 112,
   "metadata": {},
   "outputs": [],
   "source": [
    "def myfunc(x, grad, q0):\n",
    "    if grad.size > 0:\n",
    "        grad[:] = x - q0\n",
    "    return 1/2*np.dot(x,x) - np.dot(q0, x)\n",
    "\n",
    "def fk_const(result, x, grad, robot, pg):\n",
    "    if grad.size > 0:\n",
    "        grad[:] = robot.get_jacobian(x)[:3,:]\n",
    "    result[:] = robot.forward_kinematics(x).trans - pg\n",
    "    "
   ]
  },
  {
   "cell_type": "code",
   "execution_count": 122,
   "metadata": {},
   "outputs": [
    {
     "name": "stdout",
     "output_type": "stream",
     "text": [
      "optimum at  [-0.11090274  0.01097755 -0.11097191 -2.09145651 -0.04365771  1.50413172\n",
      "  0.        ]\n",
      "minimum value =  -2.7626042482058404\n",
      "result code =  4\n"
     ]
    }
   ],
   "source": [
    "opt = nlopt.opt(nlopt.LD_SLSQP, 7)\n",
    "opt.set_lower_bounds(robot.arm_lower_limit)\n",
    "opt.set_upper_bounds(robot.arm_upper_limit)\n",
    "\n",
    "pg = np.array([0.4, -0.1, 0.3])\n",
    "opt.set_min_objective(lambda x, grad: myfunc(x, grad, robot.arm_central))\n",
    "opt.add_equality_mconstraint(lambda result, x, grad: fk_const(result, x, grad, robot, pg), np.ones(3)*1e-6)\n",
    "\n",
    "opt.set_xtol_rel(1e-4)\n",
    "x = opt.optimize(robot.arm_central)\n",
    "minf = opt.last_optimum_value()\n",
    "\n",
    "print(\"optimum at \", x)\n",
    "print(\"minimum value = \", minf)\n",
    "print(\"result code = \", opt.last_optimize_result())"
   ]
  },
  {
   "cell_type": "code",
   "execution_count": 124,
   "metadata": {},
   "outputs": [
    {
     "name": "stdout",
     "output_type": "stream",
     "text": [
      "2.82 ms ± 202 µs per loop (mean ± std. dev. of 7 runs, 100 loops each)\n"
     ]
    }
   ],
   "source": [
    "%timeit opt.optimize(robot.arm_central)"
   ]
  },
  {
   "cell_type": "code",
   "execution_count": 116,
   "metadata": {},
   "outputs": [
    {
     "data": {
      "text/plain": [
       "array([ 2.22331187e-09, -5.82525375e-10,  2.10222800e-09])"
      ]
     },
     "execution_count": 116,
     "metadata": {},
     "output_type": "execute_result"
    }
   ],
   "source": [
    "robot.forward_kinematics(x).trans - pg"
   ]
  },
  {
   "cell_type": "code",
   "execution_count": 66,
   "metadata": {},
   "outputs": [
    {
     "data": {
      "text/plain": [
       "array([-0.11340889,  0.0269814 , -0.11345532, -2.07467274, -0.03372916,\n",
       "        1.4812015 ,  0.        ])"
      ]
     },
     "execution_count": 66,
     "metadata": {},
     "output_type": "execute_result"
    }
   ],
   "source": [
    "robot.inverse_kinematics(pos=pg)"
   ]
  },
  {
   "cell_type": "code",
   "execution_count": 64,
   "metadata": {},
   "outputs": [
    {
     "data": {
      "text/plain": [
       "array([ 0.0972847 , -0.00220198,  0.80924302])"
      ]
     },
     "execution_count": 64,
     "metadata": {},
     "output_type": "execute_result"
    }
   ],
   "source": [
    "robot.forward_kinematics(x).trans"
   ]
  },
  {
   "cell_type": "code",
   "execution_count": 57,
   "metadata": {},
   "outputs": [
    {
     "data": {
      "text/plain": [
       "array([-0.4027153 ,  0.09779802,  0.50924302])"
      ]
     },
     "execution_count": 57,
     "metadata": {},
     "output_type": "execute_result"
    }
   ],
   "source": [
    "result = np.zeros(3)\n",
    "grad = np.zeros((3,7))\n",
    "fk_const(result, x, grad, robot, pg)\n",
    "result"
   ]
  },
  {
   "cell_type": "code",
   "execution_count": 28,
   "metadata": {},
   "outputs": [
    {
     "name": "stdout",
     "output_type": "stream",
     "text": [
      "optimum at  0.5077784855885961 4.762529068615901\n",
      "minimum value =  2.182321944309753\n",
      "result code =  4\n"
     ]
    }
   ],
   "source": [
    "opt.set_min_objective(myfunc)\n",
    "opt.add_inequality_constraint(lambda x,grad: myconstraint(x,grad,2,0), 1e-8)\n",
    "opt.add_inequality_constraint(lambda x,grad: myconstraint(x,grad,-1,1), 1e-8)\n",
    "opt.set_xtol_rel(1e-4)\n",
    "\n",
    "x = opt.optimize([1.234, 5.678])\n",
    "minf = opt.last_optimum_value()\n",
    "\n",
    "print(\"optimum at \", x[0], x[1])\n",
    "print(\"minimum value = \", minf)\n",
    "print(\"result code = \", opt.last_optimize_result())"
   ]
  },
  {
   "cell_type": "code",
   "execution_count": 29,
   "metadata": {},
   "outputs": [
    {
     "name": "stdout",
     "output_type": "stream",
     "text": [
      "125 µs ± 573 ns per loop (mean ± std. dev. of 7 runs, 10000 loops each)\n"
     ]
    }
   ],
   "source": [
    "%timeit opt.optimize([1.234, 5.678])"
   ]
  }
 ],
 "metadata": {
  "kernelspec": {
   "display_name": "base",
   "language": "python",
   "name": "python3"
  },
  "language_info": {
   "codemirror_mode": {
    "name": "ipython",
    "version": 3
   },
   "file_extension": ".py",
   "mimetype": "text/x-python",
   "name": "python",
   "nbconvert_exporter": "python",
   "pygments_lexer": "ipython3",
   "version": "3.9.13"
  },
  "orig_nbformat": 4,
  "vscode": {
   "interpreter": {
    "hash": "200cfa3700f9ce8331bff5d79f1a4996e02dcf6e1e794625aed4014bb4176ee2"
   }
  }
 },
 "nbformat": 4,
 "nbformat_minor": 2
}
